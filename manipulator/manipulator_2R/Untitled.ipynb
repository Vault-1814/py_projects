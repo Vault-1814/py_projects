{
 "cells": [
  {
   "cell_type": "code",
   "execution_count": 43,
   "metadata": {
    "collapsed": false
   },
   "outputs": [],
   "source": [
    "from __future__ import division\n",
    "from IPython.display import display\n",
    "\n",
    "from sympy import Matrix\n",
    "from sympy.interactive import printing\n",
    "printing.init_printing(use_latex='mathjax')\n",
    " \n",
    "import sympy as sym\n",
    "from sympy import *\n",
    "q1, q2 = symbols(\"q1 q2\")\n",
    "dq1, dq2 = symbols(\"\\dot{q}_1 \\dot{q}_2\")\n",
    "ddq1, ddq2 = symbols(\"\\ddot{q}_1 \\ddot{q}_2\")\n",
    "w0, w1, w2 = symbols(\"\\omega_0 \\omega_1 \\omega_2\")\n",
    "dw0, dw1, dw2 = symbols(\"\\dot\\omega_0 \\dot\\omega_1 \\dot\\omega_2\")\n",
    "z0, z1, z2 = symbols(\"z0 z1 z2\")\n",
    "a0, a1, a2, ac1, ac2 = symbols(\"a0 a1 a2 a_{c1} a_{c2}\")\n",
    "f1, f2, f3 = symbols(\"f1 f2 f3\")\n",
    "tau1, tau2, tau3 = symbols(\"\\tau_1 \\tau_2 \\tau_3\")\n",
    "J1, J2 = symbols(\"J1 J2\")\n",
    "l1, l2, r1, r2 = symbols(\"l1 l2 r1 r2\")\n",
    "g = symbols(\"g\")\n",
    "m1, m2 = symbols(\"m1 m2\")\n",
    "r01 = Matrix([[l1],[0],[0]])\n",
    "r12 = Matrix([[l2],[0],[0]])\n",
    "r1c1 = Matrix([[-(l1-r1)],[0],[0]])\n",
    "r2c2 = Matrix([[-(l2-r2)],[0],[0]])\n",
    "z0 = z1 = z2 = Matrix([[0],[0],[1]])\n",
    "rl1, rl2 = symbols(\"r_{l1} r_{l2}\")\n",
    "J1 = Matrix([[m1*rl1**2 / 2, 0, 0],\n",
    "             [0, m1(3*rl1**2 + l1**2)/12 + m1 * rl1**2,0],\n",
    "             [0,0,m1(3*rl1**2 + l1**2)/12 + m1 * rl1**2]])\n",
    "J2 = Matrix([[m2*rl2**2 / 2, 0, 0],\n",
    "             [0, m2(3*rl2**2 + l2*2)/12 + m2 * rl2**2,0],\n",
    "             [0,0,m2(3*rl2**2 + l2*2)/12 + m2 * rl2**2]])\n",
    "R01 = Matrix([[cos(q1), -sin(q1), 0],[sin(q1), cos(q1), 0],[0,0,1]])\n",
    "R12 = Matrix([[cos(q2), -sin(q2), 0],[sin(q2), cos(q2), 0],[0,0,1]])\n",
    "\n",
    "w0 = Matrix([[0],[0],[0]])\n",
    "dw0 = Matrix([[0],[0],[0]])\n",
    "a0 = Matrix([[0],[g],[0]])\n",
    "w1 = R01.T*(w0 + dq1 * z0)\n",
    "dw1 = R01.T*(dw0 + ddq1 * z0 - dq1 * w0.cross(z0))\n",
    "a1 = R01.T*a0 + dw1.cross(r01) + w1.cross(w1.cross(r01))\n",
    "ac1 = a1 + dw1.cross(r1c1) + w1.cross(w1.cross(r1c1))\n",
    "\n",
    "w2 = R12.T*(w1 + dq2 * z1)\n",
    "dw2 = R12.T*(dw1 + ddq2 * z1 - dq2 * w1.cross(z1))\n",
    "a2 = R12.T*a1 + dw2.cross(r12) + w2.cross(w2.cross(r12))\n",
    "ac2 = a2 + dw2.cross(r2c2) + w2.cross(w2.cross(r2c2))\n",
    "f3 = Matrix([[0],[0],[0]])\n",
    "tau3 = Matrix([[0],[0],[0]])\n",
    "f2 = f3 + m2 * ac2\n",
    "tau2 = tau3 - f2.cross(r12 + r2c2) + f3.cross(r2c2) + J2*dw2 + w2.cross(J2*w2)\n",
    "f1 = f2 + m1 * ac1\n",
    "tau1 = tau2 - f1.cross(r01 + r1c1) + f2.cross(r1c1) + J1*dw1 + w1.cross(J1*w1)\n",
    "u1 = tau1.T * z0\n",
    "u2 = tau2.T * z1"
   ]
  },
  {
   "cell_type": "code",
   "execution_count": 63,
   "metadata": {
    "collapsed": false
   },
   "outputs": [
    {
     "data": {
      "text/latex": [
       "$$\\left[\\begin{matrix}m_{2} r_{2} \\left(\\ddot{q}_1 l_{1} \\cos{\\left (q_{2} \\right )} + \\ddot{q}_1 r_{2} + \\ddot{q}_2 r_{2} + \\dot{q}_1^{2} l_{1} \\sin{\\left (q_{2} \\right )} + g \\cos{\\left (q_{1} + q_{2} \\right )}\\right) + \\frac{1}{12} \\left(\\ddot{q}_1 + \\ddot{q}_2\\right) \\left(12 m_{2} r_{l2}^{2} + \\operatorname{m_{2}}{\\left (2 l_{2} + 3 r_{l2}^{2} \\right )}\\right)\\end{matrix}\\right]$$"
      ],
      "text/plain": [
       "⎡                                                                             \n",
       "⎢      ⎛                                                             2        \n",
       "⎢m₂⋅r₂⋅⎝\\ddot{q}₁⋅l₁⋅cos(q₂) + \\ddot{q}₁⋅r₂ + \\ddot{q}₂⋅r₂ + \\dot{q}₁ ⋅l₁⋅sin(\n",
       "⎣                                                                             \n",
       "\n",
       "                                                ⎛            2     ⎛          \n",
       "                    ⎞   (\\ddot{q}₁ + \\ddot{q}₂)⋅⎝12⋅m₂⋅r_{l2}  + m₂⎝2⋅l₂ + 3⋅r\n",
       "q₂) + g⋅cos(q₁ + q₂)⎠ + ──────────────────────────────────────────────────────\n",
       "                                                      12                      \n",
       "\n",
       "     2⎞⎞⎤\n",
       "_{l2} ⎠⎠⎥\n",
       "────────⎥\n",
       "        ⎦"
      ]
     },
     "execution_count": 63,
     "metadata": {},
     "output_type": "execute_result"
    }
   ],
   "source": [
    "simplify(u2)"
   ]
  },
  {
   "cell_type": "code",
   "execution_count": null,
   "metadata": {
    "collapsed": false
   },
   "outputs": [],
   "source": []
  },
  {
   "cell_type": "code",
   "execution_count": null,
   "metadata": {
    "collapsed": true
   },
   "outputs": [],
   "source": []
  }
 ],
 "metadata": {
  "kernelspec": {
   "display_name": "Python 2",
   "language": "python",
   "name": "python2"
  },
  "language_info": {
   "codemirror_mode": {
    "name": "ipython",
    "version": 2
   },
   "file_extension": ".py",
   "mimetype": "text/x-python",
   "name": "python",
   "nbconvert_exporter": "python",
   "pygments_lexer": "ipython2",
   "version": "2.7.12"
  }
 },
 "nbformat": 4,
 "nbformat_minor": 2
}
