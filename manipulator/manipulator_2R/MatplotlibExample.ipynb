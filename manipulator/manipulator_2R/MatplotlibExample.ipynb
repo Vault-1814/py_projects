{
 "cells": [
  {
   "cell_type": "code",
   "execution_count": 64,
   "metadata": {
    "collapsed": false
   },
   "outputs": [],
   "source": [
    "from __future__ import division\n",
    "from IPython.display import display\n",
    "\n",
    "from sympy import Matrix\n",
    "from sympy.interactive import printing\n",
    "\n",
    "printing.init_printing(use_latex='mathjax')\n",
    "\n",
    "import sympy as sym\n",
    "from sympy import *\n",
    "\n",
    "k, T = symbols(\"k T\")\n",
    "a, b = symbols(\"a b\")\n",
    "x1 = 2 * sin(2*k*T) + 3 * cos(5*k*T)\n",
    "x2 = 2*sin(2*k*T + 2*T) + 3*cos(5*k*T + 5*T)\n",
    "e = cos(a+b)"
   ]
  },
  {
   "cell_type": "code",
   "execution_count": 65,
   "metadata": {
    "collapsed": false
   },
   "outputs": [
    {
     "data": {
      "text/latex": [
       "$$- \\sin{\\left (a \\right )} \\sin{\\left (b \\right )} + \\cos{\\left (a \\right )} \\cos{\\left (b \\right )}$$"
      ],
      "text/plain": [
       "-sin(a)⋅sin(b) + cos(a)⋅cos(b)"
      ]
     },
     "execution_count": 65,
     "metadata": {},
     "output_type": "execute_result"
    }
   ],
   "source": [
    "e.expand(trig=True)"
   ]
  },
  {
   "cell_type": "code",
   "execution_count": 54,
   "metadata": {
    "collapsed": false
   },
   "outputs": [
    {
     "data": {
      "text/latex": [
       "$$2 \\left(2 \\cos^{2}{\\left (a \\right )} - 1\\right) \\sin{\\left (b \\right )} \\cos{\\left (b \\right )} + 2 \\left(2 \\cos^{2}{\\left (b \\right )} - 1\\right) \\sin{\\left (a \\right )} \\cos{\\left (a \\right )}$$"
      ],
      "text/plain": [
       "  ⎛     2       ⎞                   ⎛     2       ⎞              \n",
       "2⋅⎝2⋅cos (a) - 1⎠⋅sin(b)⋅cos(b) + 2⋅⎝2⋅cos (b) - 1⎠⋅sin(a)⋅cos(a)"
      ]
     },
     "execution_count": 54,
     "metadata": {},
     "output_type": "execute_result"
    }
   ],
   "source": [
    "expand_trig(e)"
   ]
  },
  {
   "cell_type": "code",
   "execution_count": null,
   "metadata": {
    "collapsed": true
   },
   "outputs": [],
   "source": [
    "Rational(3,2)*pi + exp(I*x) / (x**2 + y)"
   ]
  },
  {
   "cell_type": "code",
   "execution_count": null,
   "metadata": {
    "collapsed": true
   },
   "outputs": [],
   "source": []
  },
  {
   "cell_type": "code",
   "execution_count": null,
   "metadata": {
    "collapsed": true
   },
   "outputs": [],
   "source": []
  }
 ],
 "metadata": {
  "kernelspec": {
   "display_name": "Python 2",
   "language": "python",
   "name": "python2"
  },
  "language_info": {
   "codemirror_mode": {
    "name": "ipython",
    "version": 2
   },
   "file_extension": ".py",
   "mimetype": "text/x-python",
   "name": "python",
   "nbconvert_exporter": "python",
   "pygments_lexer": "ipython2",
   "version": "2.7.12"
  }
 },
 "nbformat": 4,
 "nbformat_minor": 0
}
